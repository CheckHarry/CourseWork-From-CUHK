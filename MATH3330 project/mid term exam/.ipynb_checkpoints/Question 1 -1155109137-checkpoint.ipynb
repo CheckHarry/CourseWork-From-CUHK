{
 "cells": [
  {
   "cell_type": "code",
   "execution_count": 7,
   "id": "extra-supervision",
   "metadata": {},
   "outputs": [
    {
     "name": "stdout",
     "output_type": "stream",
     "text": [
      "[[ 1.83899771]\n",
      " [-0.94296234]\n",
      " [ 3.0311977 ]]\n"
     ]
    }
   ],
   "source": [
    "import numpy as np\n",
    "import matplotlib.pyplot as plt\n",
    "X=np.array([[1,1,1,1,1,1,1],[0.7,1.5,2.4,3.2,4.5,5.7,6.8],[1/0.7,1/1.5,1/2.4,1/3.2,1/4.5,1/5.7,1/6.8]]).T\n",
    "Y=np.array([[5.5],[2.5],[0.8],[-0.3],[-1.7],[-2.9],[-4.2]])\n",
    "Para=np.linalg.inv(X.T@X)@X.T@Y\n",
    "print(Para)"
   ]
  },
  {
   "cell_type": "markdown",
   "id": "specific-bonus",
   "metadata": {},
   "source": [
    "theta0=1.83899771\n",
    "theta1=-0.94296234\n",
    "theta2= 3.0311977 "
   ]
  },
  {
   "cell_type": "code",
   "execution_count": 30,
   "id": "built-lottery",
   "metadata": {},
   "outputs": [
    {
     "data": {
      "text/plain": [
       "<matplotlib.collections.PathCollection at 0x2c34d6a1b20>"
      ]
     },
     "execution_count": 30,
     "metadata": {},
     "output_type": "execute_result"
    },
    {
     "data": {
      "image/png": "[encoded data removed]",
      "text/plain": [
       "<Figure size 432x288 with 1 Axes>"
      ]
     },
     "metadata": {
      "needs_background": "light"
     },
     "output_type": "display_data"
    }
   ],
   "source": [
    "k=(1/np.linspace(0.5,10,100))\n",
    "X_1= np.vstack((np.ones(100),np.linspace(0.5,10,100)))\n",
    "X_2= np.vstack((X_1,k)) .T            \n",
    "Y_predict=X_2@Para\n",
    "plt.plot(np.linspace(0.5,10,100),Y_predict)\n",
    "plt.scatter(X[:,1],Y,color='r',marker='x')"
   ]
  },
  {
   "cell_type": "code",
   "execution_count": 16,
   "id": "baking-motivation",
   "metadata": {},
   "outputs": [
    {
     "data": {
      "text/plain": [
       "array([-1.17505224])"
      ]
     },
     "execution_count": 16,
     "metadata": {},
     "output_type": "execute_result"
    }
   ],
   "source": [
    "x=np.array([1,4,1/4])\n",
    "print(x@Para)"
   ]
  },
  {
   "cell_type": "code",
   "execution_count": null,
   "id": "fatal-command",
   "metadata": {},
   "outputs": [],
   "source": []
  },
  {
   "cell_type": "code",
   "execution_count": null,
   "id": "earned-brazilian",
   "metadata": {},
   "outputs": [],
   "source": []
  }
 ],
 "metadata": {
  "kernelspec": {
   "display_name": "Python 3",
   "language": "python",
   "name": "python3"
  },
  "language_info": {
   "codemirror_mode": {
    "name": "ipython",
    "version": 3
   },
   "file_extension": ".py",
   "mimetype": "text/x-python",
   "name": "python",
   "nbconvert_exporter": "python",
   "pygments_lexer": "ipython3",
   "version": "3.9.1"
  }
 },
 "nbformat": 4,
 "nbformat_minor": 5
}
