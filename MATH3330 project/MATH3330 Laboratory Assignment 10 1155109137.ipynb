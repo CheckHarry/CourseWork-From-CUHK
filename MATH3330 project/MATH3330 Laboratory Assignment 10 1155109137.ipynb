{
 "cells": [
  {
   "cell_type": "markdown",
   "metadata": {},
   "source": [
    "Instructions: Type your code or solution in this notebook. Upload the '.ipynb' file onto Blackboard before Apr. 15 (23:59)."
   ]
  },
  {
   "cell_type": "markdown",
   "metadata": {},
   "source": [
    "Name:"
   ]
  },
  {
   "cell_type": "code",
   "execution_count": null,
   "metadata": {},
   "outputs": [],
   "source": [
    "Check Ho Kan"
   ]
  },
  {
   "cell_type": "markdown",
   "metadata": {},
   "source": [
    "Referring to the data set in Problem 1 of Laboratory Assignment 2, we import a data set of portraits."
   ]
  },
  {
   "cell_type": "code",
   "execution_count": 36,
   "metadata": {},
   "outputs": [
    {
     "name": "stdout",
     "output_type": "stream",
     "text": [
      "(3023, 62, 47)\n"
     ]
    }
   ],
   "source": [
    "from sklearn.datasets import fetch_lfw_people\n",
    "people = fetch_lfw_people(min_faces_per_person=20)\n",
    "print(people['images'].shape)"
   ]
  },
  {
   "cell_type": "markdown",
   "metadata": {},
   "source": [
    "Perform PCA and reduce the dimension of the data to 300. Do not apply the Scikit-learn package."
   ]
  },
  {
   "cell_type": "markdown",
   "metadata": {},
   "source": [
    "Then represent and print the image with index '1412' with the eigenfaces. "
   ]
  },
  {
   "cell_type": "code",
   "execution_count": 3,
   "metadata": {},
   "outputs": [],
   "source": [
    "# Answer:\n",
    "import matplotlib.pyplot as plt\n",
    "from numpy.linalg import eig\n",
    "import numpy as np\n",
    "data = people['data']\n",
    "data = people['data']\n",
    "sum = data[0,:].copy()\n",
    "for i in range(1,3023):\n",
    "    sum += data[i,:]\n",
    "average = sum / 3023\n",
    "average = average.reshape(1 , -1)\n",
    "data_translate = data - average\n",
    "lm , v = eig(data_translate.T@data_translate)\n",
    "sort_index = np.argsort(lm)[::-1]\n",
    "sort_v = v[ : , sort_index]\n",
    "sort_lm = lm[sort_index]\n",
    "data_dot = data_translate @ sort_v\n",
    "data_dot_300 = data_dot[:,0:300]\n",
    "sort_v_300 = sort_v[:,0:300]\n",
    "#data_dot_300 is the coefficient of first 300 eigenvector. \n",
    "#And sort_v is the matrix which the colunms are eigenvector sorted in big to small\n",
    "\n",
    "\n",
    "\n",
    "\n",
    "\n",
    "\n",
    "\n",
    "\n",
    "\n",
    "\n",
    "\n",
    "\n",
    "\n",
    "\n",
    "\n",
    "\n",
    "\n",
    "\n",
    "\n",
    "\n",
    "\n",
    "\n",
    "\n",
    "\n",
    "\n",
    "\n"
   ]
  },
  {
   "cell_type": "code",
   "execution_count": 25,
   "metadata": {},
   "outputs": [],
   "source": [
    "a1_face = sort_v[:,0].reshape(62,47)"
   ]
  },
  {
   "cell_type": "code",
   "execution_count": 26,
   "metadata": {},
   "outputs": [
    {
     "data": {
      "image/png": "[encoded data removed]",
      "text/plain": [
       "<Figure size 432x288 with 1 Axes>"
      ]
     },
     "metadata": {
      "needs_background": "light"
     },
     "output_type": "display_data"
    }
   ],
   "source": [
    "plt.imshow(a1_face,cmap = 'gray')\n",
    "plt.show()"
   ]
  },
  {
   "cell_type": "code",
   "execution_count": 32,
   "metadata": {},
   "outputs": [
    {
     "name": "stdout",
     "output_type": "stream",
     "text": [
      "(62,)\n"
     ]
    }
   ],
   "source": [
    "print(people['target_names'].shape)"
   ]
  },
  {
   "cell_type": "code",
   "execution_count": null,
   "metadata": {},
   "outputs": [],
   "source": []
  }
 ],
 "metadata": {
  "kernelspec": {
   "display_name": "Python 3",
   "language": "python",
   "name": "python3"
  },
  "language_info": {
   "codemirror_mode": {
    "name": "ipython",
    "version": 3
   },
   "file_extension": ".py",
   "mimetype": "text/x-python",
   "name": "python",
   "nbconvert_exporter": "python",
   "pygments_lexer": "ipython3",
   "version": "3.8.8"
  }
 },
 "nbformat": 4,
 "nbformat_minor": 2
}
