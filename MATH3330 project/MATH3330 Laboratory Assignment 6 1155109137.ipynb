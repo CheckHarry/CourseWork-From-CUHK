{
 "cells": [
  {
   "cell_type": "markdown",
   "id": "furnished-quilt",
   "metadata": {},
   "source": [
    "Instuctions: Type your code or solution in this notebook. Upload the '.ipynb' file onto Blackboard before Mar. 4 (23:59)."
   ]
  },
  {
   "cell_type": "markdown",
   "id": "rising-planner",
   "metadata": {},
   "source": [
    "Name: Check Ho Kan"
   ]
  },
  {
   "cell_type": "markdown",
   "id": "olympic-friendly",
   "metadata": {},
   "source": [
    "# Problem 1"
   ]
  },
  {
   "cell_type": "markdown",
   "id": "destroyed-circle",
   "metadata": {},
   "source": [
    " Implement the conjugate-gradient method on the following problem\n",
    " \n",
    " $$\\min_{x,y,z}   x^2 + y^2 + 2z^2 - xy + yz -5x - 2y + 7z - 3$$"
   ]
  },
  {
   "cell_type": "markdown",
   "id": "consecutive-scanner",
   "metadata": {},
   "source": [
    " (a) Rewrite the function as a quadratic form: \n",
    "$$ f(x,y,z)= \\frac{1}{2}\\left[\\begin{array}{ccc} x &y &z \\end{array}\\right] Q \\left[\\begin{array}{c} x \\\\ y \\\\z  \\end{array}\\right]- {\\bf b}^T \\left[\\begin{array}{c} x \\\\x \\\\z \\end{array}\\right] + c$$\n",
    "Print the matrix $Q$, the vector ${\\bf b}$ and the constant $c$."
   ]
  },
  {
   "cell_type": "code",
   "execution_count": 147,
   "id": "extensive-michael",
   "metadata": {},
   "outputs": [
    {
     "name": "stdout",
     "output_type": "stream",
     "text": [
      "[[ 2 -1  0]\n",
      " [-1  2 -1]\n",
      " [ 0 -1  4]]\n",
      "[[ 5]\n",
      " [ 2]\n",
      " [-7]]\n",
      "-3\n"
     ]
    }
   ],
   "source": [
    "# Answer:\n",
    "import numpy as np\n",
    "Q=np.array([[2,-1,0],[-1,2,-1],[0,-1,4]])\n",
    "b=np.array([[5],[2],[-7]])\n",
    "c=-3\n",
    "print(Q);\n",
    "print(b);\n",
    "print(c);"
   ]
  },
  {
   "cell_type": "markdown",
   "id": "federal-circular",
   "metadata": {},
   "source": [
    "(b) Implement the conjugate-gradient method."
   ]
  },
  {
   "cell_type": "code",
   "execution_count": 176,
   "id": "behavioral-johnston",
   "metadata": {},
   "outputs": [],
   "source": [
    "#Answer\n",
    "\n",
    "theta=np.array([[0],[0],[0]])\n",
    "d=b-Q@theta\n",
    "D=d\n",
    "g=-d\n",
    "G=g\n",
    "for i in range(1,3):\n",
    "    alpha=-(g.T@d)/(d.T@Q@d)\n",
    "    theta=theta+alpha*d\n",
    "    g=Q@theta-b\n",
    "    beta=(g.T@Q@d)/(d.T@Q@d)\n",
    "    d=-g+beta*d\n",
    "    D=np.hstack((D,d))\n",
    "     \n",
    "alpha=-(g.T@d)/(d.T@Q@d)\n",
    "theta=theta+alpha*d\n",
    "g=Q@theta-b\n",
    "    "
   ]
  },
  {
   "cell_type": "markdown",
   "id": "determined-cloud",
   "metadata": {},
   "source": [
    "(c) Print the result obtained in (b)."
   ]
  },
  {
   "cell_type": "code",
   "execution_count": 177,
   "id": "specified-emphasis",
   "metadata": {},
   "outputs": [
    {
     "name": "stdout",
     "output_type": "stream",
     "text": [
      "[[ 3.6]\n",
      " [ 2.2]\n",
      " [-1.2]]\n"
     ]
    }
   ],
   "source": [
    "#Answer\n",
    "print(theta)"
   ]
  },
  {
   "cell_type": "markdown",
   "id": "traditional-drill",
   "metadata": {},
   "source": [
    "(d) Show that the conjugate directions are $Q$-orthogonal (where $Q$ is the matrix in the quadratic form)."
   ]
  },
  {
   "cell_type": "code",
   "execution_count": 159,
   "id": "limiting-dubai",
   "metadata": {},
   "outputs": [
    {
     "name": "stdout",
     "output_type": "stream",
     "text": [
      "-1.7763568394002505e-15\n",
      "-1.101002476922417e-15\n",
      "2.842170943040401e-14\n"
     ]
    }
   ],
   "source": [
    "print(D[:,1]@Q@D[:,0])\n",
    "print(D[:,2]@Q@D[:,1])\n",
    "print(D[:,2]@Q@D[:,0])\n",
    "\n"
   ]
  },
  {
   "cell_type": "code",
   "execution_count": 4,
   "id": "three-indonesian",
   "metadata": {},
   "outputs": [],
   "source": [
    "#Answer\n"
   ]
  }
 ],
 "metadata": {
  "kernelspec": {
   "display_name": "Python 3",
   "language": "python",
   "name": "python3"
  },
  "language_info": {
   "codemirror_mode": {
    "name": "ipython",
    "version": 3
   },
   "file_extension": ".py",
   "mimetype": "text/x-python",
   "name": "python",
   "nbconvert_exporter": "python",
   "pygments_lexer": "ipython3",
   "version": "3.9.1"
  }
 },
 "nbformat": 4,
 "nbformat_minor": 5
}
