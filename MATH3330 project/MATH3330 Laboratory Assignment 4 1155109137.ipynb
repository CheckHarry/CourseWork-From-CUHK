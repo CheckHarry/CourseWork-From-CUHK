{
 "cells": [
  {
   "cell_type": "markdown",
   "id": "manual-accuracy",
   "metadata": {},
   "source": [
    "Instuctions: Type your code or solution in this notebook. Upload the '.ipynb' file onto Blackboard before Feb. 18 (23:59)."
   ]
  },
  {
   "cell_type": "markdown",
   "id": "taken-greeting",
   "metadata": {},
   "source": [
    "Name:"
   ]
  },
  {
   "cell_type": "code",
   "execution_count": null,
   "id": "accredited-roman",
   "metadata": {},
   "outputs": [],
   "source": [
    "Check Ho Kan"
   ]
  },
  {
   "cell_type": "markdown",
   "id": "killing-meditation",
   "metadata": {},
   "source": [
    "# Problem 1"
   ]
  },
  {
   "cell_type": "markdown",
   "id": "distinguished-toronto",
   "metadata": {},
   "source": [
    "Suppose that we wish to build a linear model that predict the price of a car from the horsepower and age. Consider building the model with the following data:\n",
    "\n",
    "|Horsepower |Age|Price\n",
    "|---|---|---|\n",
    "|90     |23| 13800|                 \n",
    "|100     |26 |14950|                \n",
    "|110     |24|16750|                  \n",
    "|140     |30|18950|          \n",
    "|175     |25|21090|                  \n",
    "|195     |31|21500|                 "
   ]
  },
  {
   "cell_type": "markdown",
   "id": "confidential-powell",
   "metadata": {},
   "source": [
    "Let $x_1$ and $x_2$ denote the horsepower and age respectively. We define the hypothesis function $h_{{\\bf \\theta}}$ by "
   ]
  },
  {
   "cell_type": "markdown",
   "id": "crude-father",
   "metadata": {},
   "source": [
    "$h_{\\bf \\theta}(x_1,x_2) = \\theta_2 x_2+ \\theta_1 x_1+\\theta_0$"
   ]
  },
  {
   "cell_type": "markdown",
   "id": "attempted-population",
   "metadata": {},
   "source": [
    "where $\\theta_0$ , $\\theta_1$ and $\\theta_2$ denote the parameters."
   ]
  },
  {
   "cell_type": "markdown",
   "id": "handmade-carrier",
   "metadata": {},
   "source": [
    "In this exercise, we aim at minimizing the cost function by applying the steepest descent algorithm."
   ]
  },
  {
   "cell_type": "markdown",
   "id": "overall-meeting",
   "metadata": {},
   "source": [
    "(a) Write a code for implementing the steepest descent algorithm. Set the initial guess to be the zero vector. Iterates until the norm of the gradient of the cost function is less than $10^{-6}$."
   ]
  },
  {
   "cell_type": "code",
   "execution_count": 71,
   "id": "brave-edinburgh",
   "metadata": {},
   "outputs": [],
   "source": [
    "# Ans:\n",
    "import numpy as np\n",
    "X=np.array([[1,1,1,1,1,1],[90,100,110,140,175,195],[23,26,24,30,25,31]]).T\n",
    "Y=np.array([[13800.0,14950.0,16750.0,18950.0,21090.0,21500.0]]).T\n",
    "Theta=np.array([[0,0,0]]).T\n",
    "Q=2*X.T@X\n",
    "b=2*X.T@Y\n",
    "g=Q@Theta-b\n",
    "norm_g = np.sqrt(np.sum(g**2))\n",
    "count =0\n",
    "while norm_g >= 10**(-6) :\n",
    "    Theta= Theta-((g.T)@g)/((g.T)@Q@g)*g\n",
    "    g = Q@Theta-b\n",
    "    norm_g = np.sqrt(np.sum(g**2))\n",
    "    count = count +1\n",
    "\n",
    "\n"
   ]
  },
  {
   "cell_type": "markdown",
   "id": "applicable-oakland",
   "metadata": {},
   "source": [
    "(b) What are the values of the parameters $\\theta_0$ , $\\theta_1$ and $\\theta_2$ for best fit? "
   ]
  },
  {
   "cell_type": "code",
   "execution_count": 85,
   "id": "casual-height",
   "metadata": {},
   "outputs": [
    {
     "data": {
      "text/plain": [
       "array([[ 8.10695149e+03],\n",
       "       [ 7.34739030e+01],\n",
       "       [-7.01616595e+00]])"
      ]
     },
     "execution_count": 85,
     "metadata": {},
     "output_type": "execute_result"
    }
   ],
   "source": [
    "# Ans:\n",
    "Theta  #By above calculation #steep descent method"
   ]
  },
  {
   "cell_type": "markdown",
   "id": "departmental-professional",
   "metadata": {},
   "source": [
    "(c) How many iterations are required?"
   ]
  },
  {
   "cell_type": "code",
   "execution_count": 86,
   "id": "proprietary-coral",
   "metadata": {},
   "outputs": [
    {
     "data": {
      "text/plain": [
       "1438023"
      ]
     },
     "execution_count": 86,
     "metadata": {},
     "output_type": "execute_result"
    }
   ],
   "source": [
    "# Ans:\n",
    "count"
   ]
  },
  {
   "cell_type": "markdown",
   "id": "hawaiian-turtle",
   "metadata": {},
   "source": [
    "# Problem 2"
   ]
  },
  {
   "cell_type": "markdown",
   "id": "congressional-yukon",
   "metadata": {},
   "source": [
    "Consider the same task as in Problem 1."
   ]
  },
  {
   "cell_type": "markdown",
   "id": "based-protest",
   "metadata": {},
   "source": [
    "(a) Rescale the features so that each feature has zero mean and unit standard deviation. "
   ]
  },
  {
   "cell_type": "code",
   "execution_count": 99,
   "id": "perceived-recruitment",
   "metadata": {},
   "outputs": [
    {
     "data": {
      "text/plain": [
       "array([[ 1.        , -1.15549333, -1.1721057 ],\n",
       "       [ 1.        , -0.89871703, -0.16744367],\n",
       "       [ 1.        , -0.64194074, -0.83721836],\n",
       "       [ 1.        ,  0.12838815,  1.1721057 ],\n",
       "       [ 1.        ,  1.02710518, -0.50233101],\n",
       "       [ 1.        ,  1.54065777,  1.50699304]])"
      ]
     },
     "execution_count": 99,
     "metadata": {},
     "output_type": "execute_result"
    }
   ],
   "source": [
    "# Ans:\n",
    "xm=X.mean(axis=0)\n",
    "xstd=X.std(axis=0)\n",
    "X= np.array([X[:,0],(X[:,1]-xm[1])/xstd[1],(X[:,2]-xm[2])/xstd[2]]).T"
   ]
  },
  {
   "cell_type": "markdown",
   "id": "about-ferry",
   "metadata": {},
   "source": [
    "(b) Apply the steepest descent algorithm. Set the initial guess to be the zero vector. Iterates until the norm of the gradient of the cost function is less than $10^{-6}$."
   ]
  },
  {
   "cell_type": "code",
   "execution_count": 100,
   "id": "chief-culture",
   "metadata": {},
   "outputs": [],
   "source": [
    "# Code:\n",
    "Theta=np.array([[0,0,0]]).T\n",
    "Q=2*X.T@X\n",
    "b=2*X.T@Y\n",
    "g=Q@Theta-b\n",
    "norm_g = np.sqrt(np.sum(g**2))\n",
    "count =0\n",
    "while norm_g >= 10**(-6) :\n",
    "    Theta= Theta-((g.T)@g)/((g.T)@Q@g)*g\n",
    "    g = Q@Theta-b\n",
    "    norm_g = np.sqrt(np.sum(g**2))\n",
    "    count = count +1\n",
    "\n",
    "\n",
    "\n",
    "\n",
    "\n",
    "\n",
    "\n",
    "\n",
    "\n"
   ]
  },
  {
   "cell_type": "markdown",
   "id": "affected-bulgaria",
   "metadata": {},
   "source": [
    "(c) How many iterations are required?"
   ]
  },
  {
   "cell_type": "code",
   "execution_count": 101,
   "id": "distant-trademark",
   "metadata": {},
   "outputs": [
    {
     "data": {
      "text/plain": [
       "54"
      ]
     },
     "execution_count": 101,
     "metadata": {},
     "output_type": "execute_result"
    }
   ],
   "source": [
    "# Ans: \n",
    "count\n"
   ]
  },
  {
   "cell_type": "code",
   "execution_count": null,
   "id": "surprised-platinum",
   "metadata": {},
   "outputs": [],
   "source": []
  }
 ],
 "metadata": {
  "kernelspec": {
   "display_name": "Python 3",
   "language": "python",
   "name": "python3"
  },
  "language_info": {
   "codemirror_mode": {
    "name": "ipython",
    "version": 3
   },
   "file_extension": ".py",
   "mimetype": "text/x-python",
   "name": "python",
   "nbconvert_exporter": "python",
   "pygments_lexer": "ipython3",
   "version": "3.9.1"
  }
 },
 "nbformat": 4,
 "nbformat_minor": 5
}
