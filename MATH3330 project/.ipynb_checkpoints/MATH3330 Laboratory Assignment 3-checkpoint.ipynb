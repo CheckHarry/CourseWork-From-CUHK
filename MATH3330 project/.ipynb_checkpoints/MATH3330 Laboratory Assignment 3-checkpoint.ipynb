{
 "cells": [
  {
   "cell_type": "markdown",
   "id": "conservative-positive",
   "metadata": {},
   "source": [
    "Instuctions: Type your code or solution in this notebook. Upload the '.ipynb' file onto Blackboard before Feb. 4 (23:59)."
   ]
  },
  {
   "cell_type": "markdown",
   "id": "patent-webmaster",
   "metadata": {},
   "source": [
    "Name:"
   ]
  },
  {
   "cell_type": "code",
   "execution_count": null,
   "id": "adapted-india",
   "metadata": {},
   "outputs": [],
   "source": [
    "Ch"
   ]
  },
  {
   "cell_type": "markdown",
   "id": "alleged-horse",
   "metadata": {},
   "source": [
    "# Problem 1"
   ]
  },
  {
   "cell_type": "markdown",
   "id": "actual-florida",
   "metadata": {},
   "source": [
    "Suppose that we wish to build a linear model that predict the price of a car from the horsepower with the following data:\n",
    "\n",
    "|Horsepower |Price|\n",
    "|---|---|\n",
    "|90     |13800|                \n",
    "|100     |14950|                  \n",
    "|110     |16750|                  \n",
    "|140     |18950|          \n",
    "|175     |21090|                  \n",
    "|195     |21500|                "
   ]
  },
  {
   "cell_type": "markdown",
   "id": "traditional-headset",
   "metadata": {},
   "source": [
    "Let $x$ denote the horsepower. We define the hypothesis function $h_{\\theta}$ by "
   ]
  },
  {
   "cell_type": "markdown",
   "id": "progressive-pressure",
   "metadata": {},
   "source": [
    "$h_{\\theta}(x) =\\theta_1 x+\\theta_0$"
   ]
  },
  {
   "cell_type": "markdown",
   "id": "floating-church",
   "metadata": {},
   "source": [
    "where $\\theta_0$ and $\\theta_1$ denote the parameters."
   ]
  },
  {
   "cell_type": "markdown",
   "id": "alpha-teacher",
   "metadata": {},
   "source": [
    "(a)\tDefine the matrix X where each row corresponds to a data point. Also add a column of ones for the bias term."
   ]
  },
  {
   "cell_type": "code",
   "execution_count": 1,
   "id": "atlantic-begin",
   "metadata": {},
   "outputs": [
    {
     "data": {
      "text/plain": [
       "array([[  1,  90],\n",
       "       [  1, 100],\n",
       "       [  1, 110],\n",
       "       [  1, 140],\n",
       "       [  1, 175],\n",
       "       [  1, 195]])"
      ]
     },
     "execution_count": 1,
     "metadata": {},
     "output_type": "execute_result"
    }
   ],
   "source": [
    "# Answer:\n",
    "import numpy as np\n",
    "X=np.array([[1,1,1,1,1,1],[90,100,110,140,175,195]]).T\n",
    "X"
   ]
  },
  {
   "cell_type": "markdown",
   "id": "broken-modem",
   "metadata": {},
   "source": [
    "(b)\tDefine a vector y for the target values."
   ]
  },
  {
   "cell_type": "code",
   "execution_count": 2,
   "id": "martial-gospel",
   "metadata": {},
   "outputs": [
    {
     "data": {
      "text/plain": [
       "array([[13800],\n",
       "       [14950],\n",
       "       [16750],\n",
       "       [18950],\n",
       "       [21090],\n",
       "       [21500]])"
      ]
     },
     "execution_count": 2,
     "metadata": {},
     "output_type": "execute_result"
    }
   ],
   "source": [
    "# Answer:\n",
    "y=np.array([[13800],[14950],[16750],[18950],[21090],[21500]])\n",
    "y"
   ]
  },
  {
   "cell_type": "markdown",
   "id": "running-story",
   "metadata": {},
   "source": [
    "(c)\tCompute $A=X^{T}X$."
   ]
  },
  {
   "cell_type": "code",
   "execution_count": 3,
   "id": "collected-living",
   "metadata": {},
   "outputs": [
    {
     "data": {
      "text/plain": [
       "array([[     6,    810],\n",
       "       [   810, 118450]])"
      ]
     },
     "execution_count": 3,
     "metadata": {},
     "output_type": "execute_result"
    }
   ],
   "source": [
    "# Answer:\n",
    "A=X.T@X\n",
    "A"
   ]
  },
  {
   "cell_type": "markdown",
   "id": "floral-uncertainty",
   "metadata": {},
   "source": [
    "(d)\tBy finding the eigenvalues of A, show that A is positive semidefinite.  (Hint: Find the eigenvalues and eigenvectors by numpy.linalg.eig())"
   ]
  },
  {
   "cell_type": "code",
   "execution_count": 4,
   "id": "indonesian-external",
   "metadata": {},
   "outputs": [
    {
     "data": {
      "text/plain": [
       "array([4.60932434e-01, 1.18455539e+05])"
      ]
     },
     "execution_count": 4,
     "metadata": {},
     "output_type": "execute_result"
    }
   ],
   "source": [
    "# Answer:\n",
    "a=np.linalg.eig(A)[0]\n",
    "a"
   ]
  },
  {
   "cell_type": "markdown",
   "id": "designing-ozone",
   "metadata": {},
   "source": [
    "Answer:\n",
    "Since all eigenvalues are non-negative, A is positive semidefinite."
   ]
  },
  {
   "cell_type": "markdown",
   "id": "static-producer",
   "metadata": {},
   "source": [
    "(e)\tPut $\\theta_0=7969$. Plot the cost function as a function of $\\theta_1$ in the interval $[70,75]$."
   ]
  },
  {
   "cell_type": "code",
   "execution_count": 10,
   "id": "premium-advancement",
   "metadata": {},
   "outputs": [
    {
     "data": {
      "text/plain": [
       "Text(0, 0.5, 'Cost Function')"
      ]
     },
     "execution_count": 10,
     "metadata": {},
     "output_type": "execute_result"
    },
    {
     "data": {
      "image/png": "[encoded data removed]",
      "text/plain": [
       "<Figure size 432x288 with 1 Axes>"
      ]
     },
     "metadata": {
      "needs_background": "light"
     },
     "output_type": "display_data"
    }
   ],
   "source": [
    "# Answer:\n",
    "import matplotlib.pyplot as plt \n",
    "theta_0=7969\n",
    "theta_1=np.arange(70,75,0.1)\n",
    "J = np.empty((50))\n",
    "for i in range(50):\n",
    "    th = np.array([[theta_0],[theta_1[i]]])\n",
    "    J[i] = (np.sum((X@th-y)**2))/12\n",
    "\n",
    "plt.plot(theta_1,J,'b-')\n",
    "plt.xlabel('theta_1')\n",
    "plt.ylabel('Cost Function')"
   ]
  },
  {
   "cell_type": "markdown",
   "id": "behind-satin",
   "metadata": {},
   "source": [
    "(f)\tSolve for the parameters that minimizes the cost function by the normal equation."
   ]
  },
  {
   "cell_type": "code",
   "execution_count": 6,
   "id": "black-wrist",
   "metadata": {},
   "outputs": [
    {
     "data": {
      "text/plain": [
       "array([[7969.42307692],\n",
       "       [  73.11538462]])"
      ]
     },
     "execution_count": 6,
     "metadata": {},
     "output_type": "execute_result"
    }
   ],
   "source": [
    "# Answer:\n",
    "from numpy.linalg import inv\n",
    "best=inv(A)@((X.T)@y)\n",
    "best"
   ]
  },
  {
   "cell_type": "markdown",
   "id": "humanitarian-corps",
   "metadata": {},
   "source": [
    "(g)\tPlot the given data points with the linear model found in (f)."
   ]
  },
  {
   "cell_type": "code",
   "execution_count": 7,
   "id": "available-router",
   "metadata": {},
   "outputs": [
    {
     "data": {
      "text/plain": [
       "Text(0, 0.5, 'Price')"
      ]
     },
     "execution_count": 7,
     "metadata": {},
     "output_type": "execute_result"
    },
    {
     "data": {
      "image/png": "[encoded data removed]",
      "text/plain": [
       "<Figure size 432x288 with 1 Axes>"
      ]
     },
     "metadata": {
      "needs_background": "light"
     },
     "output_type": "display_data"
    }
   ],
   "source": [
    "# Answer:\n",
    "model=best[1]*X[:,1]+best[0]\n",
    "plt.plot(X[:,1],model,'-')\n",
    "plt.plot(X[:,1],y,'o')\n",
    "plt.xlabel('Horesepower')\n",
    "plt.ylabel('Price')"
   ]
  },
  {
   "cell_type": "markdown",
   "id": "complimentary-joseph",
   "metadata": {},
   "source": [
    "# Problem 2"
   ]
  },
  {
   "cell_type": "markdown",
   "id": "binary-january",
   "metadata": {},
   "source": [
    "Suppose that we consider one more feature: age. \n",
    "\n",
    "|Horsepower |Age|Price\n",
    "|---|---|---|\n",
    "|90     |23| 13800|                 \n",
    "|100     |26 |14950|                \n",
    "|110     |24|16750|                  \n",
    "|140     |30|18950|          \n",
    "|175     |25|21090|                  \n",
    "|195     |31|21500|   \n"
   ]
  },
  {
   "cell_type": "markdown",
   "id": "damaged-maryland",
   "metadata": {},
   "source": [
    "(a)\tSolve for the parameters that minimizes the cost function by the normal equation."
   ]
  },
  {
   "cell_type": "code",
   "execution_count": 8,
   "id": "norman-wireless",
   "metadata": {},
   "outputs": [
    {
     "name": "stdout",
     "output_type": "stream",
     "text": [
      "[[ 8.10695150e+03]\n",
      " [ 7.34739030e+01]\n",
      " [-7.01616628e+00]]\n"
     ]
    }
   ],
   "source": [
    "# Answer:\n",
    "U=np.array([[1,1,1,1,1,1],[90,100,110,140,175,195],[23,26,24,30,25,31]]).T\n",
    "v=np.array([[13800],[14950],[16750],[18950],[21090],[21500]])\n",
    "best2=inv(U.T@U)@U.T@v\n",
    "print(best2)"
   ]
  },
  {
   "cell_type": "markdown",
   "id": "essential-onion",
   "metadata": {},
   "source": [
    "(b)\tConsider a car with the following properties:\n",
    "\n",
    "|Horsepower|Age|\n",
    "|---|---|\n",
    "|150|20|\n",
    "\n",
    "Predict the price of the car based on the model in (a)."
   ]
  },
  {
   "cell_type": "code",
   "execution_count": 9,
   "id": "hollow-publisher",
   "metadata": {},
   "outputs": [
    {
     "data": {
      "text/plain": [
       "array([18987.71362587])"
      ]
     },
     "execution_count": 9,
     "metadata": {},
     "output_type": "execute_result"
    }
   ],
   "source": [
    "# Answer:\n",
    "price=best2[2]*20+best2[1]*150+best2[0]\n",
    "price"
   ]
  }
 ],
 "metadata": {
  "kernelspec": {
   "display_name": "Python 3",
   "language": "python",
   "name": "python3"
  },
  "language_info": {
   "codemirror_mode": {
    "name": "ipython",
    "version": 3
   },
   "file_extension": ".py",
   "mimetype": "text/x-python",
   "name": "python",
   "nbconvert_exporter": "python",
   "pygments_lexer": "ipython3",
   "version": "3.9.1"
  }
 },
 "nbformat": 4,
 "nbformat_minor": 5
}
