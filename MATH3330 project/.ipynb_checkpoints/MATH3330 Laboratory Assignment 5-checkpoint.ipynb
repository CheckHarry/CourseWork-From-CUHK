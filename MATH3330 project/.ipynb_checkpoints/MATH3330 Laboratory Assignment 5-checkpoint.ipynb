{
 "cells": [
  {
   "cell_type": "markdown",
   "id": "bound-purchase",
   "metadata": {},
   "source": [
    "Instuctions: Type your code or solution in this notebook. Upload the '.ipynb' file onto Blackboard before Feb. 25 (23:59)."
   ]
  },
  {
   "cell_type": "markdown",
   "id": "arbitrary-circulation",
   "metadata": {},
   "source": [
    "Name:"
   ]
  },
  {
   "cell_type": "code",
   "execution_count": null,
   "id": "spatial-nudist",
   "metadata": {},
   "outputs": [],
   "source": [
    "Check Ho Kan"
   ]
  },
  {
   "cell_type": "markdown",
   "id": "temporal-branch",
   "metadata": {},
   "source": [
    "# Problem 1\n"
   ]
  },
  {
   "cell_type": "markdown",
   "id": "deadly-saying",
   "metadata": {},
   "source": [
    "In this problem, we will look into the Boston Housing Data Set and build a linear model by least-squares method. We will utilize the Scikit-learn package."
   ]
  },
  {
   "cell_type": "markdown",
   "id": "royal-murder",
   "metadata": {},
   "source": [
    "By running the following commands, import a data set of Boston House Price."
   ]
  },
  {
   "cell_type": "code",
   "execution_count": 1,
   "id": "assisted-thanksgiving",
   "metadata": {},
   "outputs": [],
   "source": [
    "from sklearn.datasets import load_boston\n",
    "boston_dataset = load_boston()"
   ]
  },
  {
   "cell_type": "markdown",
   "id": "heard-plasma",
   "metadata": {},
   "source": [
    "Recall that we have worked on this data set in Laboratory Session 2. Details of the data set can be found under 'keys'. We first import the feature values from the Boston Housing Data Set:"
   ]
  },
  {
   "cell_type": "code",
   "execution_count": 2,
   "id": "important-adapter",
   "metadata": {},
   "outputs": [],
   "source": [
    "X= boston_dataset.data"
   ]
  },
  {
   "cell_type": "markdown",
   "id": "located-acoustic",
   "metadata": {},
   "source": [
    "We also import the target values of the Boston Housing Data Set:"
   ]
  },
  {
   "cell_type": "code",
   "execution_count": 3,
   "id": "after-printing",
   "metadata": {},
   "outputs": [],
   "source": [
    "Y= boston_dataset.target"
   ]
  },
  {
   "cell_type": "markdown",
   "id": "beneficial-blade",
   "metadata": {},
   "source": [
    "(a) Before we build a linear model, reserve a portion of the data for testing the model. Split the training and test data set in 75% : 25%."
   ]
  },
  {
   "cell_type": "code",
   "execution_count": 86,
   "id": "otherwise-mexican",
   "metadata": {},
   "outputs": [
    {
     "data": {
      "text/plain": [
       "(127,)"
      ]
     },
     "execution_count": 86,
     "metadata": {},
     "output_type": "execute_result"
    }
   ],
   "source": [
    "# Answer:\n",
    "import numpy as np\n",
    "import math\n",
    "(n,m)=np.shape(X)\n",
    "n_75=math.floor(n*0.75)\n",
    "n_25=n-n_75\n",
    "X_train=X[0:n_75,0:m]\n",
    "X_test=X[n_75:,0:m]\n",
    "Y_train=Y[0:n_75]\n",
    "Y_test=Y[n_75:]\n",
    "np.shape(Y_test)"
   ]
  },
  {
   "cell_type": "markdown",
   "id": "accessible-thailand",
   "metadata": {},
   "source": [
    "(b) Find the size of the training data set and test data set."
   ]
  },
  {
   "cell_type": "code",
   "execution_count": 87,
   "id": "indoor-assurance",
   "metadata": {},
   "outputs": [
    {
     "name": "stdout",
     "output_type": "stream",
     "text": [
      "(379, 13)\n",
      "(127, 13)\n"
     ]
    },
    {
     "data": {
      "text/plain": [
       "23.40597844085304"
      ]
     },
     "execution_count": 87,
     "metadata": {},
     "output_type": "execute_result"
    }
   ],
   "source": [
    "# Answer:\n",
    "print(np.shape(X_train))\n",
    "print(np.shape(X_test))"
   ]
  },
  {
   "cell_type": "markdown",
   "id": "prostate-cigarette",
   "metadata": {},
   "source": [
    "(c) Using the Scikit-learn package, fit the given data with a linear least-squares model. "
   ]
  },
  {
   "cell_type": "code",
   "execution_count": 109,
   "id": "medieval-brush",
   "metadata": {},
   "outputs": [
    {
     "data": {
      "text/plain": [
       "LinearRegression()"
      ]
     },
     "execution_count": 109,
     "metadata": {},
     "output_type": "execute_result"
    }
   ],
   "source": [
    "# Answer:\n",
    "from sklearn.linear_model import LinearRegression\n",
    "model = LinearRegression()\n",
    "model.fit(X_train,Y_train)"
   ]
  },
  {
   "cell_type": "markdown",
   "id": "cosmetic-assurance",
   "metadata": {},
   "source": [
    "(d) Finally, we test our model with the testing set. Create a scatter plot of known target values versus values predicted by the model in (c)."
   ]
  },
  {
   "cell_type": "code",
   "execution_count": 117,
   "id": "working-literacy",
   "metadata": {},
   "outputs": [
    {
     "data": {
      "text/plain": [
       "[<matplotlib.lines.Line2D at 0x191cb5e4a30>]"
      ]
     },
     "execution_count": 117,
     "metadata": {},
     "output_type": "execute_result"
    },
    {
     "data": {
      "image/png": "[encoded data removed]",
      "text/plain": [
       "<Figure size 432x288 with 1 Axes>"
      ]
     },
     "metadata": {
      "needs_background": "light"
     },
     "output_type": "display_data"
    }
   ],
   "source": [
    "# Answer:\n",
    "import matplotlib.pyplot as plt\n",
    "Y_predict=model.predict(X_test)\n",
    "plt.scatter(Y_test,Y_predict)\n",
    "plt.plot(range(35),range(35))\n"
   ]
  },
  {
   "cell_type": "markdown",
   "id": "tamil-simulation",
   "metadata": {},
   "source": [
    "# Problem 2"
   ]
  },
  {
   "cell_type": "markdown",
   "id": "after-watch",
   "metadata": {},
   "source": [
    "Fit the following data to  $y=\\theta_{2}x^{2}+\\theta_{1}x+\\theta_{0}$. Compute the values of $\\theta_{0}$, $\\theta_{1}$ and $\\theta_{2}$. You can apply any packages or write your own code.\n",
    "\n",
    "|x|y|\n",
    "|---|---|\n",
    "|-3.7|21|\n",
    "|-1|4.7|\n",
    "|0.5|3.1|\n",
    "|2.2|5.8|\n",
    "|4.1|15.2|\n",
    "|5.3|24.9|"
   ]
  },
  {
   "cell_type": "code",
   "execution_count": 101,
   "id": "conscious-resort",
   "metadata": {},
   "outputs": [
    {
     "name": "stdout",
     "output_type": "stream",
     "text": [
      "3.1791310773130377\n",
      "-1.1133525210788326\n",
      "0.9873843876330414\n"
     ]
    }
   ],
   "source": [
    "# Answer:\n",
    "X=np.array([[-3.7 ,(-3.7)**2],[-1 , 1],[0.5, 0.5**2],[2.2 ,2.2**2],[4.1, 4.1**2],[5.3 ,5.3**2]])\n",
    "Y=np.array([21,4.7,3.1,5.8,15.2,24.9])\n",
    "\n",
    "model2 = LinearRegression()\n",
    "model2.fit(X,Y)\n",
    "model2.predict(X)\n",
    "theta0=model2.intercept_\n",
    "[theta1, theta2]=model2.coef_\n",
    "print(theta0)\n",
    "print(theta1)\n",
    "print(theta2)\n"
   ]
  },
  {
   "cell_type": "code",
   "execution_count": null,
   "id": "commercial-survival",
   "metadata": {},
   "outputs": [],
   "source": []
  },
  {
   "cell_type": "code",
   "execution_count": null,
   "id": "pursuant-possible",
   "metadata": {},
   "outputs": [],
   "source": []
  }
 ],
 "metadata": {
  "kernelspec": {
   "display_name": "Python 3",
   "language": "python",
   "name": "python3"
  },
  "language_info": {
   "codemirror_mode": {
    "name": "ipython",
    "version": 3
   },
   "file_extension": ".py",
   "mimetype": "text/x-python",
   "name": "python",
   "nbconvert_exporter": "python",
   "pygments_lexer": "ipython3",
   "version": "3.9.1"
  }
 },
 "nbformat": 4,
 "nbformat_minor": 5
}
