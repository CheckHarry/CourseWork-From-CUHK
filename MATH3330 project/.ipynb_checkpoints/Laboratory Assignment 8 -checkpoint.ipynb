{
 "cells": [
  {
   "cell_type": "markdown",
   "id": "geological-romance",
   "metadata": {},
   "source": [
    "Instuctions: Type your code or solution in this notebook. Upload the '.ipynb' file onto Blackboard before Mar. 25 (23:59)."
   ]
  },
  {
   "cell_type": "markdown",
   "id": "rising-standard",
   "metadata": {},
   "source": [
    "Name: "
   ]
  },
  {
   "cell_type": "code",
   "execution_count": null,
   "id": "grateful-substance",
   "metadata": {},
   "outputs": [],
   "source": [
    "Check Ho Kan"
   ]
  },
  {
   "cell_type": "markdown",
   "id": "polyphonic-madagascar",
   "metadata": {},
   "source": [
    "(a) Import the data set ‘load_digits’ from ‘sklearn.datasets’. "
   ]
  },
  {
   "cell_type": "code",
   "execution_count": 1,
   "id": "spectacular-welsh",
   "metadata": {},
   "outputs": [
    {
     "data": {
      "text/plain": [
       "dict_keys(['data', 'target', 'frame', 'feature_names', 'target_names', 'images', 'DESCR'])"
      ]
     },
     "execution_count": 1,
     "metadata": {},
     "output_type": "execute_result"
    }
   ],
   "source": [
    "# Answer: \n",
    "from sklearn.datasets import load_digits\n",
    "import numpy as np\n",
    "Data=load_digits()\n",
    "Data.keys()"
   ]
  },
  {
   "cell_type": "markdown",
   "id": "revolutionary-worse",
   "metadata": {},
   "source": [
    "(b) Consider the problem of classifying an image of a hand-written digit as ‘0’ or ‘not-0’. Define a new array for the binary target values. Then split the data set into training and test data sets."
   ]
  },
  {
   "cell_type": "code",
   "execution_count": 11,
   "id": "intelligent-royal",
   "metadata": {},
   "outputs": [],
   "source": [
    "# Answer:\n",
    "n = len(Data.target)\n",
    "Label=np.array([ 1 if Data.target[i]==0 else 0 for i in range(n)]) \n",
    "X_train = Data.images"
   ]
  },
  {
   "cell_type": "markdown",
   "id": "charitable-protein",
   "metadata": {},
   "source": [
    "(c) Construct a neural network with one hidden layer that contains 10 nodes. Apply the sigmoid function as the nonlinear activation function. You can apply the TensorFlow and Keras packages."
   ]
  },
  {
   "cell_type": "code",
   "execution_count": 9,
   "id": "suffering-country",
   "metadata": {},
   "outputs": [],
   "source": [
    "# Answer:\n",
    "import tensorflow as tf\n",
    "from tensorflow import keras\n",
    "model = keras.models.Sequential()\n",
    "model.add(keras.layers.Flatten(input_shape=[8,8]))\n",
    "model.add(keras.layers.Dense(20,activation=\"relu\"))\n",
    "model.add(keras.layers.Dense(1,activation = \"sigmoid\"))"
   ]
  },
  {
   "cell_type": "markdown",
   "id": "excess-classroom",
   "metadata": {},
   "source": [
    "(d) Apply the stochastic gradent descent method with 100 epochs."
   ]
  },
  {
   "cell_type": "code",
   "execution_count": 12,
   "id": "ecological-affect",
   "metadata": {},
   "outputs": [
    {
     "name": "stdout",
     "output_type": "stream",
     "text": [
      "Epoch 1/100\n",
      "57/57 [==============================] - 0s 855us/step - loss: 0.9588\n",
      "Epoch 2/100\n",
      "57/57 [==============================] - 0s 926us/step - loss: 0.0345\n",
      "Epoch 3/100\n",
      "57/57 [==============================] - 0s 1ms/step - loss: 0.0278\n",
      "Epoch 4/100\n",
      "57/57 [==============================] - 0s 837us/step - loss: 0.0242\n",
      "Epoch 5/100\n",
      "57/57 [==============================] - 0s 855us/step - loss: 0.0140\n",
      "Epoch 6/100\n",
      "57/57 [==============================] - 0s 801us/step - loss: 0.0116\n",
      "Epoch 7/100\n",
      "57/57 [==============================] - 0s 855us/step - loss: 0.0160\n",
      "Epoch 8/100\n",
      "57/57 [==============================] - 0s 855us/step - loss: 0.0125\n",
      "Epoch 9/100\n",
      "57/57 [==============================] - 0s 837us/step - loss: 0.0088\n",
      "Epoch 10/100\n",
      "57/57 [==============================] - 0s 944us/step - loss: 0.0109\n",
      "Epoch 11/100\n",
      "57/57 [==============================] - 0s 748us/step - loss: 0.0083\n",
      "Epoch 12/100\n",
      "57/57 [==============================] - 0s 694us/step - loss: 0.0069\n",
      "Epoch 13/100\n",
      "57/57 [==============================] - 0s 873us/step - loss: 0.0074\n",
      "Epoch 14/100\n",
      "57/57 [==============================] - 0s 780us/step - loss: 0.0072\n",
      "Epoch 15/100\n",
      "57/57 [==============================] - 0s 801us/step - loss: 0.0110\n",
      "Epoch 16/100\n",
      "57/57 [==============================] - 0s 873us/step - loss: 0.0050\n",
      "Epoch 17/100\n",
      "57/57 [==============================] - 0s 784us/step - loss: 0.0044\n",
      "Epoch 18/100\n",
      "57/57 [==============================] - 0s 775us/step - loss: 0.0045\n",
      "Epoch 19/100\n",
      "57/57 [==============================] - 0s 748us/step - loss: 0.0053\n",
      "Epoch 20/100\n",
      "57/57 [==============================] - 0s 888us/step - loss: 0.0034\n",
      "Epoch 21/100\n",
      "57/57 [==============================] - 0s 695us/step - loss: 0.0050\n",
      "Epoch 22/100\n",
      "57/57 [==============================] - 0s 1ms/step - loss: 0.0028\n",
      "Epoch 23/100\n",
      "57/57 [==============================] - 0s 1ms/step - loss: 0.0055\n",
      "Epoch 24/100\n",
      "57/57 [==============================] - 0s 1ms/step - loss: 0.0043\n",
      "Epoch 25/100\n",
      "57/57 [==============================] - 0s 730us/step - loss: 0.0035\n",
      "Epoch 26/100\n",
      "57/57 [==============================] - 0s 712us/step - loss: 0.0036\n",
      "Epoch 27/100\n",
      "57/57 [==============================] - 0s 748us/step - loss: 0.0034\n",
      "Epoch 28/100\n",
      "57/57 [==============================] - 0s 837us/step - loss: 0.0023\n",
      "Epoch 29/100\n",
      "57/57 [==============================] - 0s 801us/step - loss: 0.0029\n",
      "Epoch 30/100\n",
      "57/57 [==============================] - 0s 677us/step - loss: 0.0034\n",
      "Epoch 31/100\n",
      "57/57 [==============================] - 0s 766us/step - loss: 0.0032\n",
      "Epoch 32/100\n",
      "57/57 [==============================] - 0s 766us/step - loss: 0.0036\n",
      "Epoch 33/100\n",
      "57/57 [==============================] - 0s 944us/step - loss: 0.0022\n",
      "Epoch 34/100\n",
      "57/57 [==============================] - 0s 712us/step - loss: 0.0020\n",
      "Epoch 35/100\n",
      "57/57 [==============================] - 0s 784us/step - loss: 0.0024\n",
      "Epoch 36/100\n",
      "57/57 [==============================] - 0s 766us/step - loss: 0.0038\n",
      "Epoch 37/100\n",
      "57/57 [==============================] - 0s 730us/step - loss: 0.0028\n",
      "Epoch 38/100\n",
      "57/57 [==============================] - 0s 801us/step - loss: 0.0035\n",
      "Epoch 39/100\n",
      "57/57 [==============================] - 0s 766us/step - loss: 0.0015\n",
      "Epoch 40/100\n",
      "57/57 [==============================] - 0s 837us/step - loss: 0.0018\n",
      "Epoch 41/100\n",
      "57/57 [==============================] - 0s 784us/step - loss: 0.0027\n",
      "Epoch 42/100\n",
      "57/57 [==============================] - 0s 873us/step - loss: 0.0016\n",
      "Epoch 43/100\n",
      "57/57 [==============================] - 0s 766us/step - loss: 0.0021\n",
      "Epoch 44/100\n",
      "57/57 [==============================] - 0s 712us/step - loss: 0.0026\n",
      "Epoch 45/100\n",
      "57/57 [==============================] - 0s 748us/step - loss: 0.0020\n",
      "Epoch 46/100\n",
      "57/57 [==============================] - 0s 784us/step - loss: 0.0018\n",
      "Epoch 47/100\n",
      "57/57 [==============================] - 0s 748us/step - loss: 0.0081\n",
      "Epoch 48/100\n",
      "57/57 [==============================] - 0s 780us/step - loss: 0.0018\n",
      "Epoch 49/100\n",
      "57/57 [==============================] - 0s 712us/step - loss: 0.0022\n",
      "Epoch 50/100\n",
      "57/57 [==============================] - 0s 712us/step - loss: 0.0018\n",
      "Epoch 51/100\n",
      "57/57 [==============================] - 0s 712us/step - loss: 0.0011\n",
      "Epoch 52/100\n",
      "57/57 [==============================] - 0s 748us/step - loss: 0.0023\n",
      "Epoch 53/100\n",
      "57/57 [==============================] - 0s 819us/step - loss: 0.0011\n",
      "Epoch 54/100\n",
      "57/57 [==============================] - 0s 748us/step - loss: 0.0016\n",
      "Epoch 55/100\n",
      "57/57 [==============================] - 0s 819us/step - loss: 0.0013\n",
      "Epoch 56/100\n",
      "57/57 [==============================] - 0s 730us/step - loss: 0.0016\n",
      "Epoch 57/100\n",
      "57/57 [==============================] - 0s 722us/step - loss: 0.0013\n",
      "Epoch 58/100\n",
      "57/57 [==============================] - 0s 748us/step - loss: 0.0015\n",
      "Epoch 59/100\n",
      "57/57 [==============================] - 0s 714us/step - loss: 0.0012\n",
      "Epoch 60/100\n",
      "57/57 [==============================] - 0s 712us/step - loss: 0.0015\n",
      "Epoch 61/100\n",
      "57/57 [==============================] - 0s 775us/step - loss: 0.0012\n",
      "Epoch 62/100\n",
      "57/57 [==============================] - 0s 677us/step - loss: 0.0016\n",
      "Epoch 63/100\n",
      "57/57 [==============================] - 0s 801us/step - loss: 0.0013\n",
      "Epoch 64/100\n",
      "57/57 [==============================] - 0s 855us/step - loss: 0.0020\n",
      "Epoch 65/100\n",
      "57/57 [==============================] - 0s 748us/step - loss: 0.0013\n",
      "Epoch 66/100\n",
      "57/57 [==============================] - 0s 801us/step - loss: 0.0011\n",
      "Epoch 67/100\n",
      "57/57 [==============================] - 0s 1ms/step - loss: 0.0010- ETA: 0s - loss: 0.0010   \n",
      "Epoch 68/100\n",
      "57/57 [==============================] - 0s 855us/step - loss: 0.0015\n",
      "Epoch 69/100\n",
      "57/57 [==============================] - 0s 837us/step - loss: 0.0010\n",
      "Epoch 70/100\n",
      "57/57 [==============================] - 0s 1ms/step - loss: 0.0010\n",
      "Epoch 71/100\n",
      "57/57 [==============================] - 0s 1ms/step - loss: 0.0016\n",
      "Epoch 72/100\n",
      "57/57 [==============================] - 0s 1ms/step - loss: 9.4024e-04\n",
      "Epoch 73/100\n",
      "57/57 [==============================] - 0s 1ms/step - loss: 0.0014A: 0s - loss: 0.001\n",
      "Epoch 74/100\n",
      "57/57 [==============================] - 0s 1ms/step - loss: 8.3812e-04\n",
      "Epoch 75/100\n",
      "57/57 [==============================] - 0s 1ms/step - loss: 7.6625e-04\n",
      "Epoch 76/100\n",
      "57/57 [==============================] - 0s 944us/step - loss: 8.1020e-04\n",
      "Epoch 77/100\n",
      "57/57 [==============================] - 0s 819us/step - loss: 9.9220e-04\n",
      "Epoch 78/100\n",
      "57/57 [==============================] - 0s 766us/step - loss: 9.6278e-04\n",
      "Epoch 79/100\n",
      "57/57 [==============================] - 0s 1ms/step - loss: 0.0012\n",
      "Epoch 80/100\n",
      "57/57 [==============================] - 0s 926us/step - loss: 7.9174e-04\n",
      "Epoch 81/100\n",
      "57/57 [==============================] - 0s 997us/step - loss: 8.5372e-04\n",
      "Epoch 82/100\n",
      "57/57 [==============================] - 0s 994us/step - loss: 0.0010\n",
      "Epoch 83/100\n",
      "57/57 [==============================] - 0s 819us/step - loss: 6.3417e-04\n",
      "Epoch 84/100\n",
      "57/57 [==============================] - 0s 764us/step - loss: 0.0011\n",
      "Epoch 85/100\n",
      "57/57 [==============================] - 0s 695us/step - loss: 8.9450e-04\n",
      "Epoch 86/100\n",
      "57/57 [==============================] - 0s 801us/step - loss: 0.0012\n",
      "Epoch 87/100\n",
      "57/57 [==============================] - 0s 766us/step - loss: 0.0011\n",
      "Epoch 88/100\n",
      "57/57 [==============================] - 0s 730us/step - loss: 0.0011\n",
      "Epoch 89/100\n",
      "57/57 [==============================] - 0s 695us/step - loss: 6.9571e-04\n",
      "Epoch 90/100\n",
      "57/57 [==============================] - 0s 783us/step - loss: 0.0013\n",
      "Epoch 91/100\n",
      "57/57 [==============================] - 0s 802us/step - loss: 9.9652e-04\n",
      "Epoch 92/100\n",
      "57/57 [==============================] - 0s 944us/step - loss: 9.3597e-04\n",
      "Epoch 93/100\n",
      "57/57 [==============================] - 0s 890us/step - loss: 0.0010\n",
      "Epoch 94/100\n",
      "57/57 [==============================] - 0s 748us/step - loss: 6.3309e-04\n",
      "Epoch 95/100\n",
      "57/57 [==============================] - 0s 1ms/step - loss: 9.6024e-04\n",
      "Epoch 96/100\n",
      "57/57 [==============================] - 0s 1ms/step - loss: 7.5062e-04\n",
      "Epoch 97/100\n",
      "57/57 [==============================] - 0s 1ms/step - loss: 0.0012\n",
      "Epoch 98/100\n"
     ]
    },
    {
     "name": "stdout",
     "output_type": "stream",
     "text": [
      "57/57 [==============================] - 0s 926us/step - loss: 9.1056e-04\n",
      "Epoch 99/100\n",
      "57/57 [==============================] - 0s 1ms/step - loss: 6.7964e-04\n",
      "Epoch 100/100\n",
      "57/57 [==============================] - 0s 1ms/step - loss: 7.6558e-04\n"
     ]
    }
   ],
   "source": [
    "# Answer:\n",
    "model.compile(loss=\"binary_crossentropy\", optimizer = \"sgd\")\n",
    "history = model.fit(X_train,Label,epochs = 100)"
   ]
  },
  {
   "cell_type": "markdown",
   "id": "aggressive-wagner",
   "metadata": {},
   "source": [
    "(e)  Apply the classifier to the first ten digits in the data set."
   ]
  },
  {
   "cell_type": "code",
   "execution_count": 24,
   "id": "light-comedy",
   "metadata": {},
   "outputs": [
    {
     "name": "stdout",
     "output_type": "stream",
     "text": [
      "[[ True]\n",
      " [False]\n",
      " [False]\n",
      " [False]\n",
      " [False]\n",
      " [False]\n",
      " [False]\n",
      " [False]\n",
      " [False]\n",
      " [False]]\n"
     ]
    }
   ],
   "source": [
    "# Answer:\n",
    "result = model.predict(X_train[0:10,:,:]) > 0.5\n",
    "print(result) # True when x == 0 else False"
   ]
  },
  {
   "cell_type": "markdown",
   "id": "geographic-jersey",
   "metadata": {},
   "source": [
    "Answer:\n"
   ]
  },
  {
   "cell_type": "markdown",
   "id": "involved-recording",
   "metadata": {},
   "source": [
    "(f) Compare the predictions with the given data."
   ]
  },
  {
   "cell_type": "code",
   "execution_count": 35,
   "id": "western-liver",
   "metadata": {},
   "outputs": [
    {
     "name": "stdout",
     "output_type": "stream",
     "text": [
      "1797\n"
     ]
    }
   ],
   "source": [
    "# Answer:\n",
    "Result = model.predict(X_train) \n",
    "compare = Result.T - Label\n",
    "print(np.sum(compare < 0.1))"
   ]
  },
  {
   "cell_type": "markdown",
   "id": "boolean-serum",
   "metadata": {},
   "source": [
    "Answer:"
   ]
  },
  {
   "cell_type": "code",
   "execution_count": null,
   "id": "theoretical-gazette",
   "metadata": {},
   "outputs": [],
   "source": []
  }
 ],
 "metadata": {
  "kernelspec": {
   "display_name": "Python 3",
   "language": "python",
   "name": "python3"
  },
  "language_info": {
   "codemirror_mode": {
    "name": "ipython",
    "version": 3
   },
   "file_extension": ".py",
   "mimetype": "text/x-python",
   "name": "python",
   "nbconvert_exporter": "python",
   "pygments_lexer": "ipython3",
   "version": "3.8.8"
  }
 },
 "nbformat": 4,
 "nbformat_minor": 5
}
