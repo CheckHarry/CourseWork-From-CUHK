{
 "cells": [
  {
   "cell_type": "markdown",
   "id": "concrete-australia",
   "metadata": {},
   "source": [
    "Instuctions: Type your code or solution in this notebook. Upload the '.ipynb' file onto Blackboard before Feb. 4 (23:59)."
   ]
  },
  {
   "cell_type": "markdown",
   "id": "legitimate-tanzania",
   "metadata": {},
   "source": [
    "Name:"
   ]
  },
  {
   "cell_type": "code",
   "execution_count": null,
   "id": "green-power",
   "metadata": {},
   "outputs": [],
   "source": [
    "Check Ho Kan"
   ]
  },
  {
   "cell_type": "markdown",
   "id": "returning-tucson",
   "metadata": {},
   "source": [
    "# Problem 1"
   ]
  },
  {
   "cell_type": "markdown",
   "id": "outside-horse",
   "metadata": {},
   "source": [
    "Suppose that we wish to build a linear model that predict the price of a car from the horsepower with the following data:\n",
    "\n",
    "|Horsepower |Price|\n",
    "|---|---|\n",
    "|90     |13800|                \n",
    "|100     |14950|                  \n",
    "|110     |16750|                  \n",
    "|140     |18950|          \n",
    "|175     |21090|                  \n",
    "|195     |21500|                "
   ]
  },
  {
   "cell_type": "markdown",
   "id": "awful-detective",
   "metadata": {},
   "source": [
    "Let $x$ denote the horsepower. We define the hypothesis function $h_{\\theta}$ by "
   ]
  },
  {
   "cell_type": "markdown",
   "id": "superior-broadcast",
   "metadata": {},
   "source": [
    "$h_{\\theta}(x) =\\theta_1 x+\\theta_0$"
   ]
  },
  {
   "cell_type": "markdown",
   "id": "unlimited-imagination",
   "metadata": {},
   "source": [
    "where $\\theta_0$ and $\\theta_1$ denote the parameters."
   ]
  },
  {
   "cell_type": "markdown",
   "id": "conservative-sudan",
   "metadata": {},
   "source": [
    "(a)\tDefine the matrix X where each row corresponds to a data point. Also add a column of ones for the bias term."
   ]
  },
  {
   "cell_type": "code",
   "execution_count": 49,
   "id": "statistical-observer",
   "metadata": {},
   "outputs": [],
   "source": [
    "#Answer:\n",
    "import numpy as np\n",
    "X=np.array([[1,90],[1,100],[1,110],[1,140],[1,175],[1,195]])"
   ]
  },
  {
   "cell_type": "markdown",
   "id": "dangerous-involvement",
   "metadata": {},
   "source": [
    "(b)\tDefine a vector y for the target values."
   ]
  },
  {
   "cell_type": "code",
   "execution_count": 50,
   "id": "collectible-discharge",
   "metadata": {},
   "outputs": [],
   "source": [
    "# Answer:\n",
    "y=np.array([[13800],[14950],[16750],[18950],[21090],[21500]])"
   ]
  },
  {
   "cell_type": "markdown",
   "id": "electoral-answer",
   "metadata": {},
   "source": [
    "(c)\tCompute $A=X^{T}X$."
   ]
  },
  {
   "cell_type": "code",
   "execution_count": 68,
   "id": "acoustic-exchange",
   "metadata": {},
   "outputs": [
    {
     "data": {
      "text/plain": [
       "array([[     6,    810],\n",
       "       [   810, 118450]])"
      ]
     },
     "execution_count": 68,
     "metadata": {},
     "output_type": "execute_result"
    }
   ],
   "source": [
    "# Answer:\n",
    "A=X.T@X\n",
    "A"
   ]
  },
  {
   "cell_type": "markdown",
   "id": "amino-devon",
   "metadata": {},
   "source": [
    "(d)\tBy finding the eigenvalues of A, show that A is positive semidefinite.  (Hint: Find the eigenvalues and eigenvectors by numpy.linalg.eig())"
   ]
  },
  {
   "cell_type": "code",
   "execution_count": 52,
   "id": "ecological-carter",
   "metadata": {},
   "outputs": [
    {
     "data": {
      "text/plain": [
       "array([4.60932434e-01, 1.18455539e+05])"
      ]
     },
     "execution_count": 52,
     "metadata": {},
     "output_type": "execute_result"
    }
   ],
   "source": [
    "# Answer:\n",
    "np.linalg.eig(A)[0]"
   ]
  },
  {
   "cell_type": "markdown",
   "id": "explicit-sponsorship",
   "metadata": {},
   "source": [
    "Answer:\n",
    "Since all eigenvalues are non-negative, A is positive semidefinite."
   ]
  },
  {
   "cell_type": "markdown",
   "id": "completed-killer",
   "metadata": {},
   "source": [
    "(e)\tPut $\\theta_0=7969$. Plot the cost function as a function of $\\theta_1$ in the interval $[70,75]$."
   ]
  },
  {
   "cell_type": "code",
   "execution_count": 67,
   "id": "hired-street",
   "metadata": {},
   "outputs": [
    {
     "data": {
      "text/plain": [
       "[<matplotlib.lines.Line2D at 0x222ec165d60>]"
      ]
     },
     "execution_count": 67,
     "metadata": {},
     "output_type": "execute_result"
    },
    {
     "data": {
      "image/png": "[encoded data removed]",
      "text/plain": [
       "<Figure size 432x288 with 1 Axes>"
      ]
     },
     "metadata": {
      "needs_background": "light"
     },
     "output_type": "display_data"
    }
   ],
   "source": [
    "# Answer:\n",
    "import matplotlib.pyplot as plt\n",
    "k=np.vstack((7969*np.ones((200)),np.linspace(70,75,200)))\n",
    "Y=X@k\n",
    "Loss=np.sum((Y-y)**2,axis=0)/12\n",
    "plt.plot(np.linspace(70,75,200),Loss)"
   ]
  },
  {
   "cell_type": "markdown",
   "id": "varied-detail",
   "metadata": {},
   "source": [
    "(f)\tSolve for the parameters that minimizes the cost function by the normal equation."
   ]
  },
  {
   "cell_type": "code",
   "execution_count": 71,
   "id": "employed-virgin",
   "metadata": {},
   "outputs": [
    {
     "data": {
      "text/plain": [
       "array([[7969.42307692],\n",
       "       [  73.11538462]])"
      ]
     },
     "execution_count": 71,
     "metadata": {},
     "output_type": "execute_result"
    }
   ],
   "source": [
    "# Answer:\n",
    "from numpy.linalg import inv\n",
    "Minimizer=inv(A)@X.T@y\n"
   ]
  },
  {
   "cell_type": "markdown",
   "id": "federal-conditions",
   "metadata": {},
   "source": [
    "(g)\tPlot the given data points with the linear model found in (f)."
   ]
  },
  {
   "cell_type": "code",
   "execution_count": 76,
   "id": "official-experience",
   "metadata": {},
   "outputs": [
    {
     "data": {
      "text/plain": [
       "<matplotlib.collections.PathCollection at 0x222ec287a90>"
      ]
     },
     "execution_count": 76,
     "metadata": {},
     "output_type": "execute_result"
    },
    {
     "data": {
      "image/png": "[encoded data removed]",
      "text/plain": [
       "<Figure size 432x288 with 1 Axes>"
      ]
     },
     "metadata": {
      "needs_background": "light"
     },
     "output_type": "display_data"
    }
   ],
   "source": [
    "# Answer:\n",
    "plt.plot(X[:,1],X@Minimizer)\n",
    "plt.scatter(X[:,1],y)"
   ]
  },
  {
   "cell_type": "markdown",
   "id": "everyday-opinion",
   "metadata": {},
   "source": [
    "# Problem 2"
   ]
  },
  {
   "cell_type": "markdown",
   "id": "acting-fields",
   "metadata": {},
   "source": [
    "Suppose that we consider one more feature: age. \n",
    "\n",
    "|Horsepower |Age|Price\n",
    "|---|---|---|\n",
    "|90     |23| 13800|                 \n",
    "|100     |26 |14950|                \n",
    "|110     |24|16750|                  \n",
    "|140     |30|18950|          \n",
    "|175     |25|21090|                  \n",
    "|195     |31|21500|   \n"
   ]
  },
  {
   "cell_type": "markdown",
   "id": "reflected-mother",
   "metadata": {},
   "source": [
    "(a)\tSolve for the parameters that minimizes the cost function by the normal equation."
   ]
  },
  {
   "cell_type": "code",
   "execution_count": 78,
   "id": "guilty-pursuit",
   "metadata": {},
   "outputs": [
    {
     "data": {
      "text/plain": [
       "array([[ 8.10695150e+03],\n",
       "       [ 7.34739030e+01],\n",
       "       [-7.01616628e+00]])"
      ]
     },
     "execution_count": 78,
     "metadata": {},
     "output_type": "execute_result"
    }
   ],
   "source": [
    "# Answer:\n",
    "Xnew=np.array([[1,1,1,1,1,1],[90,100,110,140,175,195],[23,26,24,30,25,31]]).T\n",
    "Minimizernew=inv(Xnew.T@Xnew)@Xnew.T@y"
   ]
  },
  {
   "cell_type": "markdown",
   "id": "constant-stuart",
   "metadata": {},
   "source": [
    "(b)\tConsider a car with the following properties:\n",
    "\n",
    "|Horsepower|Age|\n",
    "|---|---|\n",
    "|150|20|\n",
    "\n",
    "Predict the price of the car based on the model in (a)."
   ]
  },
  {
   "cell_type": "code",
   "execution_count": 84,
   "id": "controversial-black",
   "metadata": {},
   "outputs": [
    {
     "data": {
      "text/plain": [
       "array([18987.71362587])"
      ]
     },
     "execution_count": 84,
     "metadata": {},
     "output_type": "execute_result"
    }
   ],
   "source": [
    "# Answer:\n",
    "np.array([1,150,20])@Minimizernew"
   ]
  },
  {
   "cell_type": "code",
   "execution_count": null,
   "id": "hundred-pressing",
   "metadata": {},
   "outputs": [],
   "source": []
  }
 ],
 "metadata": {
  "kernelspec": {
   "display_name": "Python 3",
   "language": "python",
   "name": "python3"
  },
  "language_info": {
   "codemirror_mode": {
    "name": "ipython",
    "version": 3
   },
   "file_extension": ".py",
   "mimetype": "text/x-python",
   "name": "python",
   "nbconvert_exporter": "python",
   "pygments_lexer": "ipython3",
   "version": "3.9.1"
  }
 },
 "nbformat": 4,
 "nbformat_minor": 5
}
